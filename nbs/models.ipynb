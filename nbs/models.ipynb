{
 "cells": [
  {
   "cell_type": "code",
   "execution_count": null,
   "metadata": {},
   "outputs": [],
   "source": [
    "#default_exp models"
   ]
  },
  {
   "cell_type": "code",
   "execution_count": null,
   "metadata": {},
   "outputs": [],
   "source": [
    "#hide\n",
    "from nbdev import *\n",
    "%load_ext autoreload\n",
    "%autoreload 2"
   ]
  },
  {
   "cell_type": "markdown",
   "metadata": {},
   "source": [
    "# Models\n",
    "\n",
    "> Uniserie models implementations."
   ]
  },
  {
   "cell_type": "code",
   "execution_count": null,
   "metadata": {},
   "outputs": [],
   "source": [
    "#hide\n",
    "import warnings\n",
    "warnings.filterwarnings('ignore', category=FutureWarning)"
   ]
  },
  {
   "cell_type": "code",
   "execution_count": null,
   "metadata": {},
   "outputs": [],
   "source": [
    "#export\n",
    "from itertools import count\n",
    "from numbers import Number\n",
    "from typing import Collection, List, Optional, Sequence, Tuple\n",
    "\n",
    "import numpy as np\n",
    "import pandas as pd\n",
    "from numba import njit\n",
    "from scipy.optimize import minimize\n",
    "\n",
    "from statsforecast.arima import auto_arima_f, forecast_arima, fitted_arima\n",
    "from statsforecast.ets import ets_f, forecast_ets"
   ]
  },
  {
   "cell_type": "code",
   "execution_count": null,
   "metadata": {},
   "outputs": [],
   "source": [
    "#exporti\n",
    "@njit\n",
    "def _ses_fcst_mse(x: np.ndarray, alpha: float) -> Tuple[float, float]:\n",
    "    \"\"\"Perform simple exponential smoothing on a series.\n",
    "\n",
    "    This function returns the one step ahead prediction\n",
    "    as well as the mean squared error of the fit.\n",
    "    \"\"\"\n",
    "    smoothed = x[0]\n",
    "    n = x.size\n",
    "    mse = 0.\n",
    "    fitted = np.full(n, np.nan, np.float32)\n",
    "\n",
    "    for i in range(1, n):\n",
    "        smoothed = (alpha * x[i - 1] + (1 - alpha) * smoothed).item()\n",
    "        error = x[i] - smoothed\n",
    "        mse += error * error\n",
    "        fitted[i] = smoothed\n",
    "\n",
    "    mse /= n\n",
    "    forecast = alpha * x[-1] + (1 - alpha) * smoothed\n",
    "    return forecast, mse, fitted\n",
    "\n",
    "\n",
    "def _ses_mse(alpha: float, x: np.ndarray) -> float:\n",
    "    \"\"\"Compute the mean squared error of a simple exponential smoothing fit.\"\"\"\n",
    "    _, mse, _ = _ses_fcst_mse(x, alpha)\n",
    "    return mse\n",
    "\n",
    "\n",
    "@njit\n",
    "def _ses_forecast(x: np.ndarray, alpha: float) -> float:\n",
    "    \"\"\"One step ahead forecast with simple exponential smoothing.\"\"\"\n",
    "    forecast, _, fitted = _ses_fcst_mse(x, alpha)\n",
    "    return forecast, fitted\n",
    "\n",
    "\n",
    "@njit\n",
    "def _demand(x: np.ndarray) -> np.ndarray:\n",
    "    \"\"\"Extract the positive elements of a vector.\"\"\"\n",
    "    return x[x > 0]\n",
    "\n",
    "\n",
    "@njit\n",
    "def _intervals(x: np.ndarray) -> np.ndarray:\n",
    "    \"\"\"Compute the intervals between non zero elements of a vector.\"\"\"\n",
    "    y = []\n",
    "\n",
    "    ctr = 1\n",
    "    for val in x:\n",
    "        if val == 0:\n",
    "            ctr += 1\n",
    "        else:\n",
    "            y.append(ctr)\n",
    "            ctr = 1\n",
    "\n",
    "    y = np.array(y)\n",
    "    return y\n",
    "\n",
    "\n",
    "@njit\n",
    "def _probability(x: np.ndarray) -> np.ndarray:\n",
    "    \"\"\"Compute the element probabilities of being non zero.\"\"\"\n",
    "    return (x != 0).astype(np.int32)\n",
    "\n",
    "\n",
    "def _optimized_ses_forecast(\n",
    "        x: np.ndarray,\n",
    "        bounds: Sequence[Tuple[float, float]] = [(0.1, 0.3)]\n",
    "    ) -> float:\n",
    "    \"\"\"Searches for the optimal alpha and computes SES one step forecast.\"\"\"\n",
    "    alpha = minimize(\n",
    "        fun=_ses_mse,\n",
    "        x0=(0,),\n",
    "        args=(x,),\n",
    "        bounds=bounds,\n",
    "        method='L-BFGS-B'\n",
    "    ).x[0]\n",
    "    forecast, fitted = _ses_forecast(x, alpha)\n",
    "    return forecast, fitted\n",
    "\n",
    "\n",
    "@njit\n",
    "def _chunk_sums(array: np.ndarray, chunk_size: int) -> np.ndarray:\n",
    "    \"\"\"Splits an array into chunks and returns the sum of each chunk.\"\"\"\n",
    "    n = array.size\n",
    "    n_chunks = n // chunk_size\n",
    "    sums = np.empty(n_chunks)\n",
    "    for i, start in enumerate(range(0, n, chunk_size)):\n",
    "        sums[i] = array[start : start + chunk_size].sum()\n",
    "    return sums"
   ]
  },
  {
   "cell_type": "code",
   "execution_count": null,
   "metadata": {},
   "outputs": [],
   "source": [
    "#export\n",
    "@njit\n",
    "def ses(X, h, future_xreg, fitted, alpha):\n",
    "    y = X[:, 0] if X.ndim == 2 else X\n",
    "    fcst, _, fitted_vals = _ses_fcst_mse(y, alpha)\n",
    "    mean = np.full(h, fcst, np.float32)\n",
    "    fcst = {'mean': mean}\n",
    "    if fitted:\n",
    "        fcst['fitted'] = fitted_vals\n",
    "    return fcst"
   ]
  },
  {
   "cell_type": "code",
   "execution_count": null,
   "metadata": {},
   "outputs": [],
   "source": [
    "#hide\n",
    "from statsforecast.utils import AirPassengers as ap"
   ]
  },
  {
   "cell_type": "code",
   "execution_count": null,
   "metadata": {},
   "outputs": [],
   "source": [
    "#hide\n",
    "fcst_ses = ses(ap, 12, None, True, 0.1)\n",
    "test_close(fcst_ses['mean'], np.repeat(460.3028, 12), eps=1e-4)\n",
    "#to recover these residuals from R\n",
    "#you have to pass initial=\"simple\"\n",
    "#in the `ses` function\n",
    "np.testing.assert_allclose(fcst_ses['fitted'][[0, 1, -1]], np.array([np.nan, 118 - 6., 432 + 31.447525]))"
   ]
  },
  {
   "cell_type": "code",
   "execution_count": null,
   "metadata": {},
   "outputs": [],
   "source": [
    "#export\n",
    "def ses_optimized(X, h, future_xreg, fitted):\n",
    "    y = X[:, 0] if X.ndim == 2 else X\n",
    "    fcst, res = _optimized_ses_forecast(y, [(0.01, 0.99)])\n",
    "    mean = np.full(h, fcst, np.float32)\n",
    "    fcst = {'mean': mean}\n",
    "    if fitted:\n",
    "        fcst['fitted'] = fitted\n",
    "    return fcst"
   ]
  },
  {
   "cell_type": "code",
   "execution_count": null,
   "metadata": {},
   "outputs": [],
   "source": [
    "#hide\n",
    "fcst_ses_optimized = ses_optimized(ap, 12, None, True)"
   ]
  },
  {
   "cell_type": "code",
   "execution_count": null,
   "metadata": {},
   "outputs": [],
   "source": [
    "#export\n",
    "def adida(X, h, future_xreg, fitted):\n",
    "    if fitted:\n",
    "        raise NotImplementedError('return fitted')\n",
    "    y = X[:, 0] if X.ndim == 2 else X\n",
    "    if (y == 0).all():\n",
    "        return {'mean': np.repeat(np.float32(0), h)}\n",
    "    y_intervals = _intervals(y)\n",
    "    mean_interval = y_intervals.mean()\n",
    "    aggregation_level = round(mean_interval)\n",
    "    lost_remainder_data = len(y) % aggregation_level\n",
    "    y_cut = y[lost_remainder_data:]\n",
    "    aggregation_sums = _chunk_sums(y_cut, aggregation_level)\n",
    "    sums_forecast, _ = _optimized_ses_forecast(aggregation_sums)\n",
    "    forecast = sums_forecast / aggregation_level\n",
    "    mean = np.repeat(forecast, h)\n",
    "    return {'mean': mean}"
   ]
  },
  {
   "cell_type": "code",
   "execution_count": null,
   "metadata": {},
   "outputs": [],
   "source": [
    "#export\n",
    "@njit\n",
    "def historic_average(X, h, future_xreg, fitted):\n",
    "    y = X[:, 0] if X.ndim == 2 else X\n",
    "    mean = np.repeat(y.mean(), h)\n",
    "    fcst = {'mean': mean}\n",
    "    if fitted:\n",
    "        fitted_vals = np.full(y.size, np.nan, y.dtype)\n",
    "        fitted_vals[1:] = y.cumsum()[:-1] / np.arange(1, y.size)\n",
    "        fcst['fitted'] = fitted_vals\n",
    "    return fcst"
   ]
  },
  {
   "cell_type": "code",
   "execution_count": null,
   "metadata": {},
   "outputs": [],
   "source": [
    "#hide\n",
    "fcst_ha = historic_average(ap, 12, None, True)\n",
    "test_eq(fcst_ha['mean'], np.repeat(ap.mean(), 12))\n",
    "np.testing.assert_almost_equal(\n",
    "    fcst_ha['fitted'][:4],\n",
    "    np.array([np.nan, 112., 115., 120.6666667])\n",
    ")"
   ]
  },
  {
   "cell_type": "code",
   "execution_count": null,
   "metadata": {},
   "outputs": [],
   "source": [
    "#export\n",
    "@njit\n",
    "def croston_classic(X, h, future_xreg, fitted):\n",
    "    if fitted:\n",
    "        raise NotImplementedError('return fitted')\n",
    "    y = X[:, 0] if X.ndim == 2 else X\n",
    "    yd = _demand(y)\n",
    "    yi = _intervals(y)\n",
    "    ydp, _ = _ses_forecast(yd, 0.1)\n",
    "    yip, _ = _ses_forecast(yi, 0.1)\n",
    "    mean = ydp / yip\n",
    "    return {'mean': mean}\n",
    "\n",
    "\n",
    "@njit\n",
    "def croston_sba(X, h, future_xreg, fitted):\n",
    "    if fitted:\n",
    "        raise NotImplementedError('return fitted')\n",
    "    y = X[:, 0] if X.ndim == 2 else X\n",
    "    mean = croston_classic(y, h, future_xreg, fitted)\n",
    "    mean['mean'] *= 0.95\n",
    "    return mean\n",
    "\n",
    "\n",
    "def croston_optimized(X, h, future_xreg, fitted):\n",
    "    if fitted:\n",
    "        raise NotImplementedError('return fitted')\n",
    "    y = X[:, 0] if X.ndim == 2 else X\n",
    "    yd = _demand(y)\n",
    "    yi = _intervals(y)\n",
    "    ydp, _ = _optimized_ses_forecast(yd)\n",
    "    yip, _ = _optimized_ses_forecast(yi)\n",
    "    mean = ydp / yip\n",
    "    return {'mean': mean}\n",
    "\n",
    "\n",
    "@njit\n",
    "def seasonal_window_average(\n",
    "    X: np.ndarray,\n",
    "    h: int,\n",
    "    future_xreg,\n",
    "    fitted,\n",
    "    season_length: int,\n",
    "    window_size: int,\n",
    ") -> np.ndarray:\n",
    "    if fitted:\n",
    "        raise NotImplementedError('return fitted')\n",
    "    y = X[:, 0] if X.ndim == 2 else X\n",
    "    min_samples = season_length * window_size\n",
    "    if y.size < min_samples:\n",
    "        return {'mean': np.full(h, np.nan, np.float32)}\n",
    "    season_avgs = np.zeros(season_length, np.float32)\n",
    "    for i, value in enumerate(y[-min_samples:]):\n",
    "        season = i % season_length\n",
    "        season_avgs[season] += value / window_size\n",
    "    out = np.empty(h, np.float32)\n",
    "    for i in range(h):\n",
    "        out[i] = season_avgs[i % season_length]\n",
    "    return {'mean': out}\n",
    "\n",
    "def imapa(X, h, future_xreg, fitted):\n",
    "    if fitted:\n",
    "        raise NotImplementedError('return fitted')\n",
    "    y = X[:, 0] if X.ndim == 2 else X\n",
    "    if (y == 0).all():\n",
    "        return {'mean': np.repeat(np.float32(0), h)}\n",
    "    y_intervals = _intervals(y)\n",
    "    mean_interval = y_intervals.mean().item()\n",
    "    max_aggregation_level = round(mean_interval)\n",
    "    forecasts = np.empty(max_aggregation_level, np.float32)\n",
    "    for aggregation_level in range(1, max_aggregation_level + 1):\n",
    "        lost_remainder_data = len(y) % aggregation_level\n",
    "        y_cut = y[lost_remainder_data:]\n",
    "        aggregation_sums = _chunk_sums(y_cut, aggregation_level)\n",
    "        forecast, _ = _optimized_ses_forecast(aggregation_sums)\n",
    "        forecasts[aggregation_level - 1] = (forecast / aggregation_level)\n",
    "    forecast = forecasts.mean()\n",
    "    mean = np.repeat(forecast, h)\n",
    "    return {'mean': mean}\n",
    "\n",
    "\n",
    "@njit\n",
    "def naive(X, h, future_xreg, fitted):\n",
    "    y = X[:, 0] if X.ndim == 2 else X\n",
    "    mean = np.repeat(y[-1], h).astype(np.float32)\n",
    "    if fitted:\n",
    "        fitted_vals = np.full(y.size, np.nan, np.float32)\n",
    "        fitted_vals[1:] = np.roll(y, 1)[1:]\n",
    "        return {'mean': mean, 'fitted': fitted_vals}\n",
    "    return {'mean': mean}"
   ]
  },
  {
   "cell_type": "code",
   "execution_count": null,
   "metadata": {},
   "outputs": [],
   "source": [
    "#export\n",
    "@njit\n",
    "def seasonal_naive(X, h, future_xreg, fitted, season_length):\n",
    "    y = X[:, 0] if X.ndim == 2 else X\n",
    "    if y.size < season_length:\n",
    "        return {'mean': np.full(h, np.nan, np.float32)}\n",
    "    season_vals = np.empty(season_length, np.float32)\n",
    "    fitted_vals = np.full(y.size, np.nan, np.float32)\n",
    "    for i in range(season_length):\n",
    "        s_naive = naive(y[i::season_length], 1, None, fitted)\n",
    "        season_vals[i] = s_naive['mean'].item()\n",
    "        if fitted:\n",
    "            fitted_vals[i::season_length] = s_naive['fitted']\n",
    "    out = np.empty(h, np.float32)\n",
    "    for i in range(h):\n",
    "        out[i] = season_vals[i % season_length]\n",
    "    fcst = {'mean': out}\n",
    "    if fitted:\n",
    "        fcst['fitted'] = fitted_vals\n",
    "    return fcst"
   ]
  },
  {
   "cell_type": "code",
   "execution_count": null,
   "metadata": {},
   "outputs": [],
   "source": [
    "#hide\n",
    "fcst_seas_naive = seasonal_naive(ap, 12, None, True, 12)\n",
    "test_eq(fcst_seas_naive['fitted'][-3:], np.array([461 - 54., 390 - 28., 432 - 27.]))"
   ]
  },
  {
   "cell_type": "code",
   "execution_count": null,
   "metadata": {},
   "outputs": [],
   "source": [
    "#export\n",
    "@njit\n",
    "def random_walk_with_drift(X, h, future_xreg, fitted):\n",
    "    y = X[:, 0] if X.ndim == 2 else X\n",
    "    slope = (y[-1] - y[0]) / (y.size - 1)\n",
    "    mean = slope * (1 + np.arange(h)) + y[-1]\n",
    "    fcst = {'mean': mean.astype(np.float32)}\n",
    "    if fitted:\n",
    "        fitted_vals = np.full(y.size, np.nan, dtype=np.float32)\n",
    "        fitted_vals[1:] = (slope + y[:-1]).astype(np.float32)\n",
    "        fcst['fitted'] = fitted_vals\n",
    "    return fcst"
   ]
  },
  {
   "cell_type": "code",
   "execution_count": null,
   "metadata": {},
   "outputs": [],
   "source": [
    "#hide\n",
    "fcst_rwd = random_walk_with_drift(ap, 12, None, True)\n",
    "test_close(fcst_rwd['mean'][:2], np.array([434.2378, 436.4755]), eps=1e-4)\n",
    "np.testing.assert_almost_equal(\n",
    "    fcst_rwd['fitted'][:3], \n",
    "    np.array([np.nan, 118 - 3.7622378, 132 - 11.7622378]),\n",
    "    decimal=6\n",
    ")"
   ]
  },
  {
   "cell_type": "code",
   "execution_count": null,
   "metadata": {},
   "outputs": [],
   "source": [
    "#export\n",
    "@njit\n",
    "def window_average(X, h, future_xreg, fitted, window_size):\n",
    "    if fitted:\n",
    "        raise NotImplementedError('return fitted')\n",
    "    y = X[:, 0] if X.ndim == 2 else X\n",
    "    if y.size < window_size:\n",
    "        return {'mean': np.full(h, np.nan, np.float32)}\n",
    "    wavg = y[-window_size:].mean()\n",
    "    mean = np.repeat(wavg, h)\n",
    "    return {'mean': mean}"
   ]
  },
  {
   "cell_type": "code",
   "execution_count": null,
   "metadata": {},
   "outputs": [],
   "source": [
    "#export\n",
    "@njit\n",
    "def seasonal_exponential_smoothing(X, h, future_xreg, fitted, season_length, alpha):\n",
    "    y = X[:, 0] if X.ndim == 2 else X\n",
    "    if y.size < season_length:\n",
    "        return {'mean': np.full(h, np.nan, np.float32)}\n",
    "    season_vals = np.empty(season_length, np.float32)\n",
    "    fitted_vals = np.full(y.size, np.nan, np.float32)\n",
    "    for i in range(season_length):\n",
    "        season_vals[i], fitted_vals[i::season_length] = _ses_forecast(y[i::season_length], alpha)\n",
    "    out = np.empty(h, np.float32)\n",
    "    for i in range(h):\n",
    "        out[i] = season_vals[i % season_length]\n",
    "    fcst = {'mean': out}\n",
    "    if fitted:\n",
    "        fcst['fitted'] = fitted_vals\n",
    "    return fcst"
   ]
  },
  {
   "cell_type": "code",
   "execution_count": null,
   "metadata": {},
   "outputs": [],
   "source": [
    "#hide\n",
    "# `seasonal_exponential_smoothing`\n",
    "# should recover seasonal_naive when alpha=1.\n",
    "fcst_seas_ses = seasonal_exponential_smoothing(ap, 12, None, True, 12, 1.)\n",
    "test_eq(fcst_seas_ses['mean'], fcst_seas_naive['mean'])\n",
    "np.testing.assert_array_equal(\n",
    "    fcst_seas_ses['fitted'], \n",
    "    fcst_seas_naive['fitted']\n",
    ")"
   ]
  },
  {
   "cell_type": "code",
   "execution_count": null,
   "metadata": {},
   "outputs": [],
   "source": [
    "#export\n",
    "def seasonal_ses_optimized(X, h, future_xreg, fitted, season_length):\n",
    "    y = X[:, 0] if X.ndim == 2 else X\n",
    "    if y.size < season_length:\n",
    "        return {'mean': np.full(h, np.nan, np.float32)}\n",
    "    season_vals = np.empty(season_length, np.float32)\n",
    "    fitted_vals = np.full(y.size, np.nan, np.float32)\n",
    "    for i in range(season_length):\n",
    "        season_vals[i], fitted_vals[i::season_length] = _optimized_ses_forecast(y[i::season_length], [(0.01, 0.99)])\n",
    "    out = np.empty(h, np.float32)\n",
    "    for i in range(h):\n",
    "        out[i] = season_vals[i % season_length]\n",
    "    fcst = {'mean': out}\n",
    "    if fitted:\n",
    "        fcst['fitted'] = fitted_vals\n",
    "    return fcst"
   ]
  },
  {
   "cell_type": "code",
   "execution_count": null,
   "metadata": {},
   "outputs": [],
   "source": [
    "#hide\n",
    "fcst_seas_seas_opt = seasonal_ses_optimized(ap, 12, None, True, 12)"
   ]
  },
  {
   "cell_type": "code",
   "execution_count": null,
   "metadata": {},
   "outputs": [],
   "source": [
    "#export\n",
    "@njit\n",
    "def tsb(X, h, future_xreg, fitted, alpha_d, alpha_p):\n",
    "    if fitted:\n",
    "        raise NotImplementedError('return fitted')\n",
    "    y = X[:, 0] if X.ndim == 2 else X\n",
    "    if (y == 0).all():\n",
    "        return {'mean': np.repeat(np.float32(0), h)}\n",
    "    yd = _demand(y)\n",
    "    yp = _probability(y)\n",
    "    ypf, _ = _ses_forecast(yp, alpha_p)\n",
    "    ydf, _ = _ses_forecast(yd, alpha_d)\n",
    "    forecast = np.float32(ypf * ydf)\n",
    "    mean = np.repeat(forecast, h)\n",
    "    return {'mean': mean}"
   ]
  },
  {
   "cell_type": "code",
   "execution_count": null,
   "metadata": {},
   "outputs": [],
   "source": [
    "#export\n",
    "def auto_arima(X: np.ndarray, h: int, future_xreg=None, fitted: bool = False, season_length: int = 1, \n",
    "               approximation: bool = False, level: Optional[Tuple[int]] = None) -> np.ndarray:\n",
    "    y = X[:, 0] if X.ndim == 2 else X\n",
    "    xreg = X[:, 1:] if (X.ndim == 2 and X.shape[1] > 1) else None\n",
    "    with np.errstate(invalid='ignore'):\n",
    "        mod = auto_arima_f(\n",
    "            y, \n",
    "            xreg=xreg,\n",
    "            period=season_length, \n",
    "            approximation=approximation,\n",
    "            allowmean=False, allowdrift=False #not implemented yet\n",
    "        )\n",
    "    fcst = forecast_arima(mod, h, xreg=future_xreg, level=level)\n",
    "    mean = fcst['mean']\n",
    "    if fitted:\n",
    "        return {'mean': mean, 'fitted': fitted_arima(mod)}\n",
    "    if level is None:\n",
    "        return {'mean': mean}\n",
    "    return {\n",
    "        'mean': mean,\n",
    "        **{f'lo-{l}': fcst['lower'][f'{l}%'] for l in reversed(level)},\n",
    "        **{f'hi-{l}': fcst['upper'][f'{l}%'] for l in level},\n",
    "    }    "
   ]
  },
  {
   "cell_type": "code",
   "execution_count": null,
   "metadata": {},
   "outputs": [],
   "source": [
    "#export\n",
    "def ets(X: np.ndarray, h: int, future_xreg=None, fitted: bool = False, \n",
    "        season_length: int = 1,\n",
    "        model: str = 'ZZZ') -> np.ndarray:\n",
    "    y = X[:, 0] if X.ndim == 2 else X\n",
    "    xreg = X[:, 1:] if (X.ndim == 2 and X.shape[1] > 1) else None\n",
    "    mod = ets_f(y, m=season_length, model=model)\n",
    "    fcst = forecast_ets(mod, h)\n",
    "    keys = ['mean']\n",
    "    if fitted:\n",
    "        keys.append('fitted')\n",
    "    return {key: fcst[key] for key in keys}"
   ]
  },
  {
   "cell_type": "code",
   "execution_count": null,
   "metadata": {},
   "outputs": [],
   "source": [
    "from statsforecast.utils import AirPassengers as ap"
   ]
  },
  {
   "cell_type": "code",
   "execution_count": null,
   "metadata": {},
   "outputs": [],
   "source": [
    "auto_arima(ap, 12, season_length=12)"
   ]
  },
  {
   "cell_type": "code",
   "execution_count": null,
   "metadata": {},
   "outputs": [],
   "source": [
    "ets(ap, 12, season_length=12, fitted=True)"
   ]
  },
  {
   "cell_type": "markdown",
   "metadata": {},
   "source": [
    "External regressors"
   ]
  },
  {
   "cell_type": "code",
   "execution_count": null,
   "metadata": {},
   "outputs": [],
   "source": [
    "drift = np.arange(1, ap.size + 1)\n",
    "X = np.vstack([ap, np.log(drift), np.sqrt(drift)]).T"
   ]
  },
  {
   "cell_type": "code",
   "execution_count": null,
   "metadata": {},
   "outputs": [],
   "source": [
    "newdrift = np.arange(ap.size + 1, ap.size + 7 + 1).reshape(-1, 1)\n",
    "newxreg = np.concatenate([np.log(newdrift), np.sqrt(newdrift)], axis=1)"
   ]
  },
  {
   "cell_type": "code",
   "execution_count": null,
   "metadata": {},
   "outputs": [],
   "source": [
    "auto_arima(X, 7, future_xreg=newxreg, season_length=12)"
   ]
  },
  {
   "cell_type": "markdown",
   "metadata": {},
   "source": [
    "Confidence intervals"
   ]
  },
  {
   "cell_type": "code",
   "execution_count": null,
   "metadata": {},
   "outputs": [],
   "source": [
    "pd.DataFrame(auto_arima(ap, 12, season_length=12, level=(80, 95)))"
   ]
  }
 ],
 "metadata": {
  "kernelspec": {
   "display_name": "Python 3 (ipykernel)",
   "language": "python",
   "name": "python3"
  }
 },
 "nbformat": 4,
 "nbformat_minor": 4
}
