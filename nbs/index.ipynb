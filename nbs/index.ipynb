{
 "cells": [
  {
   "cell_type": "code",
   "execution_count": null,
   "id": "30ebf8f9",
   "metadata": {},
   "outputs": [],
   "source": [
    "#hide\n",
    "%load_ext autoreload\n",
    "%autoreload 2"
   ]
  },
  {
   "cell_type": "code",
   "execution_count": null,
   "id": "732d5057-c72b-4b2e-96f4-89d49b3e8c6f",
   "metadata": {},
   "outputs": [],
   "source": [
    "#hide\n",
    "import warnings\n",
    "warnings.simplefilter('ignore')\n",
    "\n",
    "import logging\n",
    "logging.getLogger('statsforecast').setLevel(logging.ERROR)"
   ]
  },
  {
   "cell_type": "markdown",
   "id": "43832dcf-0452-4503-aace-8f38e5e23723",
   "metadata": {},
   "source": [
    "# <center>Nixtla"
   ]
  },
  {
   "cell_type": "markdown",
   "id": "4ea573e6",
   "metadata": {},
   "source": [
    "<div align=\"center\">\n",
    "<img src=\"https://raw.githubusercontent.com/Nixtla/neuralforecast/main/nbs/indx_imgs/branding/logo_mid.png\">\n",
    "<h1 align=\"center\">Statistical ⚡️ Forecast</h1>\n",
    "<h3 align=\"center\">Lightning fast forecasting with statistical and econometric models</h3>\n",
    "</div>\n",
    "\n",
    "**StatsForecast** offers a collection of widely used univariate time series forecasting models, including automatic `ARIMA` and `ETS` modeling optimized for high performance using `numba`. It also includes a large battery of benchmarking models.\n"
   ]
  },
  {
   "cell_type": "markdown",
   "id": "50d28044",
   "metadata": {},
   "source": [
    "## 💻 Installation and Getting Started\n",
    "\n",
    "\n",
    "### PyPI\n",
    "\n",
    "You can install the *released version* of `StatsForecast` from the [Python package index](https://pypi.org) with:\n",
    "\n",
    "```python\n",
    "pip install statsforecast\n",
    "```\n",
    "\n",
    "(Installing inside a python virtualenvironment or a conda environment is recommended.)\n",
    "\n",
    "\n",
    "### Conda\n",
    "  \n",
    "Also you can install the *released version* of `StatsForecast` from [conda](https://anaconda.org) with:\n",
    "\n",
    "```python\n",
    "conda install -c conda-forge statsforecast\n",
    "```\n",
    "\n",
    "(Installing inside a python virtualenvironment or a conda environment is recommended.)\n",
    "\n",
    "### Dev Mode\n",
    "If you want to make some modifications to the code and see the effects in real time (without reinstalling), follow the steps below:\n",
    "\n",
    "```bash\n",
    "git clone https://github.com/Nixtla/statsforecast.git\n",
    "cd statsforecast\n",
    "pip install -e .\n",
    "```\n",
    "\n",
    "To get started just follow this [guide](./examples/Getting_Started_with_Auto_Arima_and_ETS.ipynb).\n"
   ]
  },
  {
   "cell_type": "markdown",
   "id": "2ffd7d85-a293-4d88-8b45-558683d6b72c",
   "metadata": {},
   "source": [
    "## 🎉 New!\n",
    "* [![Open In Colab](https://colab.research.google.com/assets/colab-badge.svg)](https://colab.research.google.com/github/nixtla/statsforecast/blob/main/examples/Getting_Started_with_Auto_Arima_and_ETS.ipynb)  **ETS Example**: 4x faster than StatsModels with improved accuracy and robustness.\n",
    "* [![Open In Colab](https://colab.research.google.com/assets/colab-badge.svg)](https://colab.research.google.com/github/nixtla/statsforecast/blob/main/examples/arima.ipynb)   **Complete pipeline and comparison**:  20x faster than pmdarima and 500x faster than Prophet. "
   ]
  },
  {
   "cell_type": "markdown",
   "id": "2de0541c-43ca-4906-b51e-b30f94074286",
   "metadata": {},
   "source": [
    "## 🔥  Highlights\n",
    "\n",
    "* Fastest and most accurate `auto_arima` in `Python` and `R`.\n",
    "* Fastest and most accurate `ets` in `Python` and `R`.\n",
    "\n",
    "* **New!**: Replace FB-Prophet in two lines of code and gain speed and accuracy. Check the experiments [here](https://github.com/Nixtla/statsforecast/tree/main/experiments/arima_prophet_adapter).\n",
    "* **New!**: Distributed computation in clusters with [ray](https://github.com/ray-project/ray). (Forecast 1M series in [30min](https://github.com/Nixtla/statsforecast/tree/main/experiments/ray))\n",
    "* **New!**: Good Ol' sklearn syntax with `AutoARIMA().fit(y).predict(h=7)`."
   ]
  },
  {
   "cell_type": "markdown",
   "id": "c11cef31-a60e-4a78-995a-94063abe9809",
   "metadata": {},
   "source": [
    "## 🎊 Features \n",
    "\n",
    "* Inclusion of `exogenous variables` and `prediction intervals` for ARIMA.\n",
    "* 20x faster than `pmdarima`.\n",
    "* 1.5x faster than `R`.\n",
    "* 500x faster than `Prophet`. \n",
    "* 4x faster than `statsmodels`.\n",
    "* Compiled to high performance machine code through [`numba`](https://numba.pydata.org/).\n",
    "* 1,000,000 series in [30 min](https://github.com/Nixtla/statsforecast/tree/main/experiments/ray) with [ray](https://github.com/ray-project/ray).\n",
    "\n",
    "* Out of the box implementation of `ses`, `adida`, `historic_average`, `croston_classic`, `croston_sba`, `croston_optimized`, `seasonal_window_average`, `seasonal_naive`, `imapa`\n",
    "`naive`, `random_walk_with_drift`, `window_average`, `seasonal_exponential_smoothing`, `tsb`, `auto_arima` and `ets`. \n",
    "\n",
    "Missing something? Please open an issue or write us in [![Slack](https://img.shields.io/badge/Slack-4A154B?&logo=slack&logoColor=white)](https://join.slack.com/t/nixtlaworkspace/shared_invite/zt-135dssye9-fWTzMpv2WBthq8NK0Yvu6A)\n"
   ]
  },
  {
   "cell_type": "markdown",
   "id": "a8a9d04c-f064-43d3-8eae-39b69d8afb9e",
   "metadata": {},
   "source": [
    "## 📖 Why? \n",
    "\n",
    "Current Python alternatives for statistical models are slow, inaccurate and don't scale well. So we created a library that can be used to forecast in production environments or as benchmarks.  `StatsForecast` includes an extensive battery of models that can efficiently fit millions of time series."
   ]
  },
  {
   "cell_type": "markdown",
   "id": "566e6ea0-0174-42a3-94c1-4d1d14591823",
   "metadata": {},
   "source": [
    "## 🔬 Accuracy & ⏲ Speed \n",
    "\n",
    "### ARIMA \n",
    "The `auto_arima` model implemented in `StatsForecast` is **20x faster** than `pmdarima` and **1.5x faster** than `R`  while improving accuracy. You can see the exact comparison and reproduce the results [here](./experiments/arima/).\n",
    "\n",
    "### ETS\n",
    "\n",
    "StatsForecast's exponential smoothing is **4x faster than StatsModels'** and **1.6x faster than R's**, with improved accuracy and robustness. You can see the exact comparison and reproduce the results[here](./experiments/ets/)\n",
    "\n",
    "### Benchmarks at Scale\n",
    "\n",
    "With `StatsForecast` you can fit 9 benchmark models on **1,000,000** series in under **5 min**. Reproduce the results [here](./experiments/benchmarks_at_scale/). \n"
   ]
  },
  {
   "cell_type": "markdown",
   "id": "8f2477d4-7935-468d-8805-fc674c28461e",
   "metadata": {},
   "source": [
    "\n",
    "## 🧬 Getting Started \n",
    "You can run this notebooks to get you started. \n",
    "\n",
    "* Example of different `auto_arima` models on M4 data [![Open In Colab](https://colab.research.google.com/assets/colab-badge.svg)](https://colab.research.google.com/github/nixtla/statsforecast/blob/main/examples/arima.ipynb)  \n",
    "    * In this notebook we present Nixtla's `auto_arima`. \n",
    "    The `auto_arima` model is widely used to forecast time series in production and as a benchmark. However, the alternative python implementation (`pmdarima`) is so slow that prevents data scientists from quickly iterating and deploying `auto_arima` in production for a large number of time series. \n",
    "\n",
    "* Shorter Example of fitting and `auto_arima` and an `ets` model.  [![Open In Colab](https://colab.research.google.com/assets/colab-badge.svg)](https://colab.research.google.com/github/nixtla/statsforecast/blob/main/examples/Forecasting_with_Auto_Arima_&_ETS_.ipynb) \n",
    "\n",
    "\n",
    "* Benchmarking 9 models on millions of [series](./experiments/benchmarks_at_scale/)."
   ]
  },
  {
   "cell_type": "markdown",
   "id": "516e79e8-6add-4aa1-8e39-d28ca6a651a0",
   "metadata": {},
   "source": [
    "## 🔨 How to contribute\n",
    "See [CONTRIBUTING.md](https://github.com/Nixtla/statsforecast/blob/main/CONTRIBUTING.md)."
   ]
  },
  {
   "cell_type": "markdown",
   "id": "880c61b7-ec48-428d-8668-54c9114a51a1",
   "metadata": {},
   "source": [
    "## 📃 References\n",
    "\n",
    "*  The `auto_arima` model is based (translated) from the R implementation included in the [forecast](https://github.com/robjhyndman/forecast) package developed by Rob Hyndman.\n",
    "*  The `ets` model is based (translated) from the R implementation included in the [forecast](https://github.com/robjhyndman/forecast) package developed by Rob Hyndman."
   ]
  }
 ],
 "metadata": {
  "kernelspec": {
   "display_name": "Python 3 (ipykernel)",
   "language": "python",
   "name": "python3"
  }
 },
 "nbformat": 4,
 "nbformat_minor": 5
}
